{
  "nbformat": 4,
  "nbformat_minor": 0,
  "metadata": {
    "colab": {
      "provenance": [],
      "collapsed_sections": [
        "-08JjTW-TOPp",
        "Gn0BvhEds904",
        "RwhDFNZK05GU",
        "rBkok15reHsm",
        "cmnjWTOsYRB6"
      ]
    },
    "kernelspec": {
      "name": "python3",
      "display_name": "Python 3"
    },
    "language_info": {
      "name": "python"
    }
  },
  "cells": [
    {
      "cell_type": "code",
      "execution_count": 1,
      "metadata": {
        "id": "X19bglnG4lwh"
      },
      "outputs": [],
      "source": [
        "ASSETS_DIR = \"/content/drive/MyDrive/Colab Notebooks/assets\""
      ]
    },
    {
      "cell_type": "code",
      "source": [
        "from __future__ import annotations\n",
        "\n",
        "import numpy as np\n",
        "import pandas as pd\n",
        "\n",
        "from dataclasses import dataclass, field"
      ],
      "metadata": {
        "id": "5qySRMVg47Ae"
      },
      "execution_count": 2,
      "outputs": []
    },
    {
      "cell_type": "code",
      "source": [
        "@dataclass\n",
        "class Node:\n",
        "  indexes: list[int] = field(default_factory=list)\n",
        "  childs: list[Node] = field(default_factory=list)\n",
        "  branch: str = \"\"\n",
        "  key: str = \"\"\n",
        "\n",
        "  def __show(self, indexes, branch, childs, key, r=0, c=0, x=0):\n",
        "    print(c * '\\t', indexes, end=\" \")\n",
        "    print(\"#\" + str(branch) if branch else \"\", end=\" \")\n",
        "    print(\"@\" + str(key) if key else \"\", end=\"\\n\")\n",
        "\n",
        "    if len(childs) == 0:\n",
        "      return\n",
        "    else:\n",
        "      c += 1\n",
        "\n",
        "    for i in childs:\n",
        "      r += 1\n",
        "      x = c * r + 1\n",
        "      self.__show(i.indexes, i.branch, i.childs, i.key, r, c, x)\n",
        "\n",
        "  @property\n",
        "  def show(self):\n",
        "    self.__show(self.indexes, self.branch, self.childs, self.key)"
      ],
      "metadata": {
        "id": "-rb-Z5k3TgA7"
      },
      "execution_count": 3,
      "outputs": []
    },
    {
      "cell_type": "code",
      "source": [
        "def exclude_from(df, exclude_list):\n",
        "  if len(exclude_list) > 0:\n",
        "    return df.loc[:, ~df.columns.isin(exclude_list)]\n",
        "  return df"
      ],
      "metadata": {
        "id": "pKmVRG9w6YG_"
      },
      "execution_count": 8,
      "outputs": []
    },
    {
      "cell_type": "markdown",
      "source": [
        "---\n",
        "# ID3"
      ],
      "metadata": {
        "id": "-08JjTW-TOPp"
      }
    },
    {
      "cell_type": "code",
      "source": [
        "def entropy(s):\n",
        "    p = -s.value_counts() \\\n",
        "          .div(s.count()) \\\n",
        "          .agg(lambda x: x*np.log2(x)) \\\n",
        "          .sum()\n",
        "\n",
        "    return p"
      ],
      "metadata": {
        "id": "r-9tlCx04-Mb"
      },
      "execution_count": 4,
      "outputs": []
    },
    {
      "cell_type": "code",
      "source": [
        "def gain(s, col, target):\n",
        "    p_target = entropy(s[target])\n",
        "    keys = s[col].drop_duplicates()\n",
        "    entropies = keys.apply(lambda _: (_,\n",
        "                                      entropy(s[target][s[col][s[col] == _].index])))\n",
        "    ratios = s[col].value_counts().div(len(s))\n",
        "    res = np.subtract(p_target,\n",
        "                      entropies.apply(lambda _: ratios.loc[_[0]] * _[1])\n",
        "                               .sum())\n",
        "\n",
        "    return col, res"
      ],
      "metadata": {
        "id": "qbiUZf6U5BkW"
      },
      "execution_count": 5,
      "outputs": []
    },
    {
      "cell_type": "code",
      "source": [
        "def id3(s, *, df=None, target, exclude, verbose=False):\n",
        "    node = Node()\n",
        "\n",
        "    # stopping case\n",
        "    if df is not None and len(df) == 0:\n",
        "        return\n",
        "\n",
        "    # store first dataframe\n",
        "    if df is None:\n",
        "        df = s.copy()\n",
        "\n",
        "    node.indexes = list(s.index)\n",
        "\n",
        "    # remove excluded columns from dataframe\n",
        "    s = exclude_from(s, exclude)\n",
        "    #if len(exclude) > 0:\n",
        "    #    s = s.loc[:, ~s.columns.isin(exclude)]\n",
        "\n",
        "    columns = s.columns.drop(labels=[target])\n",
        "\n",
        "    gains = columns.map(lambda x: gain(s, x, target)) \\\n",
        "                   .to_frame(index=False) \\\n",
        "                   .set_index(0)\n",
        "\n",
        "    if verbose:\n",
        "      print(\"\\nSET:\\n\\n\", df.loc[s.index])\n",
        "      print(\"\\nGAINS: \\n\", gains)\n",
        "\n",
        "    if gains.empty or len(df[target].value_counts()) == 1:\n",
        "        if verbose:\n",
        "          print(\"\\n\\nLEAF<<<\\n\\n\")\n",
        "        node.key = df[target].values[0]\n",
        "        return node\n",
        "\n",
        "    next_branch = gains.idxmax().values[0]\n",
        "    node.branch = next_branch\n",
        "\n",
        "    if verbose:\n",
        "      print(\"\\nNEXT BRANCH: \", next_branch)\n",
        "\n",
        "    next_S = df[next_branch].drop_duplicates() \\\n",
        "                            .apply(lambda _: df.loc[df[next_branch][df[next_branch] == _] \\\n",
        "                                               .index])\n",
        "\n",
        "    for k, v in enumerate(next_S):\n",
        "      if verbose:\n",
        "        print(f\"epoch @{k}\")\n",
        "      #print(v[next_branch].values[0])\n",
        "      n = id3(v, df=df.loc[v.index], target=target, exclude=[*exclude, next_branch])\n",
        "      n.key = v[next_branch].values[0]\n",
        "      node.childs.append(n)\n",
        "\n",
        "    return node\n"
      ],
      "metadata": {
        "id": "ZOGTkc8u5O2Q"
      },
      "execution_count": 6,
      "outputs": []
    },
    {
      "cell_type": "code",
      "source": [
        "df = pd.read_csv(ASSETS_DIR + \"/weather.csv\")\n",
        "target = \"play\" #@param {type: \"string\"}\n",
        "exclude = [\"id\"] #@param\n",
        "\n",
        "# 1st epoch\n",
        "tree = id3(df, exclude=exclude, target=target)\n",
        "tree.show"
      ],
      "metadata": {
        "colab": {
          "base_uri": "https://localhost:8080/"
        },
        "id": "dNP3Jtvj5aSF",
        "outputId": "d70108fa-25ef-4795-9a76-b952fd435cb1"
      },
      "execution_count": 9,
      "outputs": [
        {
          "output_type": "stream",
          "name": "stdout",
          "text": [
            " [0, 1, 2, 3, 4, 5, 6, 7, 8, 9, 10, 11, 12, 13] #outlook \n",
            "\t [0, 1, 7, 8, 10] #humidity @sunny\n",
            "\t\t [0, 1, 7]  @high\n",
            "\t\t [8, 10]  @normal\n",
            "\t [2, 6, 11, 12]  @overcast\n",
            "\t [3, 4, 5, 9, 13] #windy @rainy\n",
            "\t\t [3, 4, 9]  \n",
            "\t\t [5, 13]  @True\n"
          ]
        }
      ]
    },
    {
      "cell_type": "markdown",
      "source": [
        "---"
      ],
      "metadata": {
        "id": "vNRkb8aBsIuN"
      }
    },
    {
      "cell_type": "code",
      "source": [
        "df = pd.read_csv(ASSETS_DIR + \"/job.csv\")\n",
        "target = \"risk\" #@param {type: \"string\"}\n",
        "exclude = [\"customer\"] #@param\n",
        "\n",
        "# 1st epoch\n",
        "tree = id3(df, exclude=exclude, target=target, verbose=False)\n",
        "tree.show"
      ],
      "metadata": {
        "colab": {
          "base_uri": "https://localhost:8080/"
        },
        "id": "VtwQZc5OHw2I",
        "outputId": "e6c240c0-1f2e-417e-87bd-67ffe9e3483c"
      },
      "execution_count": 10,
      "outputs": [
        {
          "output_type": "stream",
          "name": "stdout",
          "text": [
            " [0, 1, 2, 3, 4, 5, 6, 7, 8, 9] #debt \n",
            "\t [0, 1, 2]  @High\n",
            "\t [3, 4, 5, 6, 7, 8, 9] #revenue @Low\n",
            "\t\t [3, 4, 7, 8] #status @Low\n",
            "\t\t\t [3, 7]  @Employee\n",
            "\t\t\t [4, 8]  @Employeer\n",
            "\t\t [5, 6, 9]  @High\n"
          ]
        }
      ]
    },
    {
      "cell_type": "markdown",
      "source": [
        "---"
      ],
      "metadata": {
        "id": "w28IHvUzsLZP"
      }
    },
    {
      "cell_type": "code",
      "source": [
        "df = pd.read_csv(ASSETS_DIR + \"/tennis.csv\")\n",
        "target = \"play\" #@param {type: \"string\"}\n",
        "exclude = [] #@param\n",
        "\n",
        "# 1st epoch\n",
        "tree = id3(df, exclude=exclude, target=target)\n",
        "tree.show"
      ],
      "metadata": {
        "colab": {
          "base_uri": "https://localhost:8080/"
        },
        "outputId": "894c85bd-a146-4079-b9a8-b42f8b1e3399",
        "id": "7x3pDYwfRypB"
      },
      "execution_count": 11,
      "outputs": [
        {
          "output_type": "stream",
          "name": "stdout",
          "text": [
            " [0, 1, 2, 3, 4, 5, 6, 7, 8, 9, 10, 11, 12, 13] #outlook \n",
            "\t [0, 1, 7, 8, 10] #humidity @sunny\n",
            "\t\t [0, 1, 7]  @high\n",
            "\t\t [8, 10]  @normal\n",
            "\t [2, 6, 11, 12]  @overcast\n",
            "\t [3, 4, 5, 9, 13] #windy @rainy\n",
            "\t\t [3, 4, 9]  @weak\n",
            "\t\t [5, 13]  @strong\n"
          ]
        }
      ]
    },
    {
      "cell_type": "markdown",
      "source": [
        "---"
      ],
      "metadata": {
        "id": "abdi8AKhsNzo"
      }
    },
    {
      "cell_type": "code",
      "source": [
        "df = pd.read_csv(ASSETS_DIR + \"/monks.csv\")\n",
        "target = \"has_tie\" #@param {type: \"string\"}\n",
        "exclude = [] #@param\n",
        "\n",
        "# 1st epoch\n",
        "tree = id3(df, exclude=exclude, target=target)\n",
        "tree.show"
      ],
      "metadata": {
        "id": "eVf4zscDKzYs"
      },
      "execution_count": null,
      "outputs": []
    },
    {
      "cell_type": "markdown",
      "source": [
        "---"
      ],
      "metadata": {
        "id": "4fLlu9yYsPAg"
      }
    },
    {
      "cell_type": "markdown",
      "source": [
        "---\n",
        "# C4.5"
      ],
      "metadata": {
        "id": "Gn0BvhEds904"
      }
    },
    {
      "cell_type": "code",
      "source": [
        "data = {\n",
        "    \"A1\": ['a', 'a', 'a', 'a', 'a', 'b', 'b', 'b', 'b', 'c', 'c', 'c', 'c', 'c'],\n",
        "    \"A2\": [70, 90, 85, 95, 70, 90, 78, 65, 75, 80, 70, 80, 70, 96],\n",
        "    \"A3\": [True, True, False, False, False, True, False, True, False, True, True, False, False, False],\n",
        "    \"class\": [\"class1\", \"class2\", \"class2\", \"class2\", \"class1\", \"class1\",\"class1\",\"class1\",\"class1\", \"class2\", \"class2\", \"class1\", \"class1\",\"class1\",]\n",
        "}\n",
        "\n",
        "df = pd.DataFrame(data)\n",
        "threshold = df['A2'].drop_duplicates() \\\n",
        "                    .sort_values() \\\n",
        "                    .median()\n",
        "df['A2'] = df['A2'].apply(lambda x: 'lte' if x <= threshold else 'gt')\n",
        "df[:3]"
      ],
      "metadata": {
        "colab": {
          "base_uri": "https://localhost:8080/",
          "height": 143
        },
        "id": "JLBhrwd-rTLh",
        "outputId": "9b66e16a-d6c3-45ff-d1a1-f877b34f636d"
      },
      "execution_count": 12,
      "outputs": [
        {
          "output_type": "execute_result",
          "data": {
            "text/plain": [
              "  A1   A2     A3   class\n",
              "0  a  lte   True  class1\n",
              "1  a   gt   True  class2\n",
              "2  a   gt  False  class2"
            ],
            "text/html": [
              "\n",
              "  <div id=\"df-a1c4fe96-e446-40ea-bf91-d38e954e0694\">\n",
              "    <div class=\"colab-df-container\">\n",
              "      <div>\n",
              "<style scoped>\n",
              "    .dataframe tbody tr th:only-of-type {\n",
              "        vertical-align: middle;\n",
              "    }\n",
              "\n",
              "    .dataframe tbody tr th {\n",
              "        vertical-align: top;\n",
              "    }\n",
              "\n",
              "    .dataframe thead th {\n",
              "        text-align: right;\n",
              "    }\n",
              "</style>\n",
              "<table border=\"1\" class=\"dataframe\">\n",
              "  <thead>\n",
              "    <tr style=\"text-align: right;\">\n",
              "      <th></th>\n",
              "      <th>A1</th>\n",
              "      <th>A2</th>\n",
              "      <th>A3</th>\n",
              "      <th>class</th>\n",
              "    </tr>\n",
              "  </thead>\n",
              "  <tbody>\n",
              "    <tr>\n",
              "      <th>0</th>\n",
              "      <td>a</td>\n",
              "      <td>lte</td>\n",
              "      <td>True</td>\n",
              "      <td>class1</td>\n",
              "    </tr>\n",
              "    <tr>\n",
              "      <th>1</th>\n",
              "      <td>a</td>\n",
              "      <td>gt</td>\n",
              "      <td>True</td>\n",
              "      <td>class2</td>\n",
              "    </tr>\n",
              "    <tr>\n",
              "      <th>2</th>\n",
              "      <td>a</td>\n",
              "      <td>gt</td>\n",
              "      <td>False</td>\n",
              "      <td>class2</td>\n",
              "    </tr>\n",
              "  </tbody>\n",
              "</table>\n",
              "</div>\n",
              "      <button class=\"colab-df-convert\" onclick=\"convertToInteractive('df-a1c4fe96-e446-40ea-bf91-d38e954e0694')\"\n",
              "              title=\"Convert this dataframe to an interactive table.\"\n",
              "              style=\"display:none;\">\n",
              "        \n",
              "  <svg xmlns=\"http://www.w3.org/2000/svg\" height=\"24px\"viewBox=\"0 0 24 24\"\n",
              "       width=\"24px\">\n",
              "    <path d=\"M0 0h24v24H0V0z\" fill=\"none\"/>\n",
              "    <path d=\"M18.56 5.44l.94 2.06.94-2.06 2.06-.94-2.06-.94-.94-2.06-.94 2.06-2.06.94zm-11 1L8.5 8.5l.94-2.06 2.06-.94-2.06-.94L8.5 2.5l-.94 2.06-2.06.94zm10 10l.94 2.06.94-2.06 2.06-.94-2.06-.94-.94-2.06-.94 2.06-2.06.94z\"/><path d=\"M17.41 7.96l-1.37-1.37c-.4-.4-.92-.59-1.43-.59-.52 0-1.04.2-1.43.59L10.3 9.45l-7.72 7.72c-.78.78-.78 2.05 0 2.83L4 21.41c.39.39.9.59 1.41.59.51 0 1.02-.2 1.41-.59l7.78-7.78 2.81-2.81c.8-.78.8-2.07 0-2.86zM5.41 20L4 18.59l7.72-7.72 1.47 1.35L5.41 20z\"/>\n",
              "  </svg>\n",
              "      </button>\n",
              "      \n",
              "  <style>\n",
              "    .colab-df-container {\n",
              "      display:flex;\n",
              "      flex-wrap:wrap;\n",
              "      gap: 12px;\n",
              "    }\n",
              "\n",
              "    .colab-df-convert {\n",
              "      background-color: #E8F0FE;\n",
              "      border: none;\n",
              "      border-radius: 50%;\n",
              "      cursor: pointer;\n",
              "      display: none;\n",
              "      fill: #1967D2;\n",
              "      height: 32px;\n",
              "      padding: 0 0 0 0;\n",
              "      width: 32px;\n",
              "    }\n",
              "\n",
              "    .colab-df-convert:hover {\n",
              "      background-color: #E2EBFA;\n",
              "      box-shadow: 0px 1px 2px rgba(60, 64, 67, 0.3), 0px 1px 3px 1px rgba(60, 64, 67, 0.15);\n",
              "      fill: #174EA6;\n",
              "    }\n",
              "\n",
              "    [theme=dark] .colab-df-convert {\n",
              "      background-color: #3B4455;\n",
              "      fill: #D2E3FC;\n",
              "    }\n",
              "\n",
              "    [theme=dark] .colab-df-convert:hover {\n",
              "      background-color: #434B5C;\n",
              "      box-shadow: 0px 1px 3px 1px rgba(0, 0, 0, 0.15);\n",
              "      filter: drop-shadow(0px 1px 2px rgba(0, 0, 0, 0.3));\n",
              "      fill: #FFFFFF;\n",
              "    }\n",
              "  </style>\n",
              "\n",
              "      <script>\n",
              "        const buttonEl =\n",
              "          document.querySelector('#df-a1c4fe96-e446-40ea-bf91-d38e954e0694 button.colab-df-convert');\n",
              "        buttonEl.style.display =\n",
              "          google.colab.kernel.accessAllowed ? 'block' : 'none';\n",
              "\n",
              "        async function convertToInteractive(key) {\n",
              "          const element = document.querySelector('#df-a1c4fe96-e446-40ea-bf91-d38e954e0694');\n",
              "          const dataTable =\n",
              "            await google.colab.kernel.invokeFunction('convertToInteractive',\n",
              "                                                     [key], {});\n",
              "          if (!dataTable) return;\n",
              "\n",
              "          const docLinkHtml = 'Like what you see? Visit the ' +\n",
              "            '<a target=\"_blank\" href=https://colab.research.google.com/notebooks/data_table.ipynb>data table notebook</a>'\n",
              "            + ' to learn more about interactive tables.';\n",
              "          element.innerHTML = '';\n",
              "          dataTable['output_type'] = 'display_data';\n",
              "          await google.colab.output.renderOutput(dataTable, element);\n",
              "          const docLink = document.createElement('div');\n",
              "          docLink.innerHTML = docLinkHtml;\n",
              "          element.appendChild(docLink);\n",
              "        }\n",
              "      </script>\n",
              "    </div>\n",
              "  </div>\n",
              "  "
            ]
          },
          "metadata": {},
          "execution_count": 12
        }
      ]
    },
    {
      "cell_type": "code",
      "source": [
        "target = \"class\" #@param {type: \"string\"}\n",
        "exclude = [] #@param\n",
        "\n",
        "# 1st epoch\n",
        "tree = id3(df, exclude=exclude, target=target, verbose=False)\n",
        "tree.show"
      ],
      "metadata": {
        "colab": {
          "base_uri": "https://localhost:8080/"
        },
        "id": "yYIdUpDjuCto",
        "outputId": "8116382d-09df-446b-8940-d48ed251e8ed"
      },
      "execution_count": 13,
      "outputs": [
        {
          "output_type": "stream",
          "name": "stdout",
          "text": [
            " [0, 1, 2, 3, 4, 5, 6, 7, 8, 9, 10, 11, 12, 13] #A1 \n",
            "\t [0, 1, 2, 3, 4] #A2 @a\n",
            "\t\t [0, 4]  @lte\n",
            "\t\t [1, 2, 3]  @gt\n",
            "\t [5, 6, 7, 8]  @b\n",
            "\t [9, 10, 11, 12, 13] #A3 @c\n",
            "\t\t [9, 10]  @True\n",
            "\t\t [11, 12, 13]  \n"
          ]
        }
      ]
    },
    {
      "cell_type": "markdown",
      "source": [
        "---\n",
        "# TWOING"
      ],
      "metadata": {
        "id": "RwhDFNZK05GU"
      }
    },
    {
      "cell_type": "code",
      "source": [
        "a = {\n",
        "    \"salary\": [\"N\", \"H\", \"L\", \"H\", \"L\", \"H\", \"L\", \"H\", \"L\", \"H\", \"L\"],\n",
        "     \"exp\": [\"M\", \"N\", \"N\", \"M\", \"M\", \"G\", \"G\", \"M\", \"M\", \"G\", \"G\"],\n",
        "     \"major\": [\"expert\", \"expert\", \"manager\", \"manager\",\"manager\",\"manager\",\"manager\", \"expert\", \"expert\",\"expert\",\"expert\"],\n",
        "     \"satisfied\": [\"Y\", \"Y\", \"Y\", \"Y\", \"Y\", \"Y\", \"Y\", \"N\", \"N\",\"N\",\"N\"]\n",
        "}\n",
        "\n",
        "target = \"satisfied\"\n",
        "exclude = []\n",
        "\n",
        "df = pd.DataFrame(a)\n",
        "df"
      ],
      "metadata": {
        "colab": {
          "base_uri": "https://localhost:8080/",
          "height": 394
        },
        "id": "2CRwrp6106Mo",
        "outputId": "813e7d3c-0520-49fd-9ca7-cfc780ebe216"
      },
      "execution_count": 14,
      "outputs": [
        {
          "output_type": "execute_result",
          "data": {
            "text/plain": [
              "   salary exp    major satisfied\n",
              "0       N   M   expert         Y\n",
              "1       H   N   expert         Y\n",
              "2       L   N  manager         Y\n",
              "3       H   M  manager         Y\n",
              "4       L   M  manager         Y\n",
              "5       H   G  manager         Y\n",
              "6       L   G  manager         Y\n",
              "7       H   M   expert         N\n",
              "8       L   M   expert         N\n",
              "9       H   G   expert         N\n",
              "10      L   G   expert         N"
            ],
            "text/html": [
              "\n",
              "  <div id=\"df-a159c7c5-e4b6-4020-8aed-77882ea348d2\">\n",
              "    <div class=\"colab-df-container\">\n",
              "      <div>\n",
              "<style scoped>\n",
              "    .dataframe tbody tr th:only-of-type {\n",
              "        vertical-align: middle;\n",
              "    }\n",
              "\n",
              "    .dataframe tbody tr th {\n",
              "        vertical-align: top;\n",
              "    }\n",
              "\n",
              "    .dataframe thead th {\n",
              "        text-align: right;\n",
              "    }\n",
              "</style>\n",
              "<table border=\"1\" class=\"dataframe\">\n",
              "  <thead>\n",
              "    <tr style=\"text-align: right;\">\n",
              "      <th></th>\n",
              "      <th>salary</th>\n",
              "      <th>exp</th>\n",
              "      <th>major</th>\n",
              "      <th>satisfied</th>\n",
              "    </tr>\n",
              "  </thead>\n",
              "  <tbody>\n",
              "    <tr>\n",
              "      <th>0</th>\n",
              "      <td>N</td>\n",
              "      <td>M</td>\n",
              "      <td>expert</td>\n",
              "      <td>Y</td>\n",
              "    </tr>\n",
              "    <tr>\n",
              "      <th>1</th>\n",
              "      <td>H</td>\n",
              "      <td>N</td>\n",
              "      <td>expert</td>\n",
              "      <td>Y</td>\n",
              "    </tr>\n",
              "    <tr>\n",
              "      <th>2</th>\n",
              "      <td>L</td>\n",
              "      <td>N</td>\n",
              "      <td>manager</td>\n",
              "      <td>Y</td>\n",
              "    </tr>\n",
              "    <tr>\n",
              "      <th>3</th>\n",
              "      <td>H</td>\n",
              "      <td>M</td>\n",
              "      <td>manager</td>\n",
              "      <td>Y</td>\n",
              "    </tr>\n",
              "    <tr>\n",
              "      <th>4</th>\n",
              "      <td>L</td>\n",
              "      <td>M</td>\n",
              "      <td>manager</td>\n",
              "      <td>Y</td>\n",
              "    </tr>\n",
              "    <tr>\n",
              "      <th>5</th>\n",
              "      <td>H</td>\n",
              "      <td>G</td>\n",
              "      <td>manager</td>\n",
              "      <td>Y</td>\n",
              "    </tr>\n",
              "    <tr>\n",
              "      <th>6</th>\n",
              "      <td>L</td>\n",
              "      <td>G</td>\n",
              "      <td>manager</td>\n",
              "      <td>Y</td>\n",
              "    </tr>\n",
              "    <tr>\n",
              "      <th>7</th>\n",
              "      <td>H</td>\n",
              "      <td>M</td>\n",
              "      <td>expert</td>\n",
              "      <td>N</td>\n",
              "    </tr>\n",
              "    <tr>\n",
              "      <th>8</th>\n",
              "      <td>L</td>\n",
              "      <td>M</td>\n",
              "      <td>expert</td>\n",
              "      <td>N</td>\n",
              "    </tr>\n",
              "    <tr>\n",
              "      <th>9</th>\n",
              "      <td>H</td>\n",
              "      <td>G</td>\n",
              "      <td>expert</td>\n",
              "      <td>N</td>\n",
              "    </tr>\n",
              "    <tr>\n",
              "      <th>10</th>\n",
              "      <td>L</td>\n",
              "      <td>G</td>\n",
              "      <td>expert</td>\n",
              "      <td>N</td>\n",
              "    </tr>\n",
              "  </tbody>\n",
              "</table>\n",
              "</div>\n",
              "      <button class=\"colab-df-convert\" onclick=\"convertToInteractive('df-a159c7c5-e4b6-4020-8aed-77882ea348d2')\"\n",
              "              title=\"Convert this dataframe to an interactive table.\"\n",
              "              style=\"display:none;\">\n",
              "        \n",
              "  <svg xmlns=\"http://www.w3.org/2000/svg\" height=\"24px\"viewBox=\"0 0 24 24\"\n",
              "       width=\"24px\">\n",
              "    <path d=\"M0 0h24v24H0V0z\" fill=\"none\"/>\n",
              "    <path d=\"M18.56 5.44l.94 2.06.94-2.06 2.06-.94-2.06-.94-.94-2.06-.94 2.06-2.06.94zm-11 1L8.5 8.5l.94-2.06 2.06-.94-2.06-.94L8.5 2.5l-.94 2.06-2.06.94zm10 10l.94 2.06.94-2.06 2.06-.94-2.06-.94-.94-2.06-.94 2.06-2.06.94z\"/><path d=\"M17.41 7.96l-1.37-1.37c-.4-.4-.92-.59-1.43-.59-.52 0-1.04.2-1.43.59L10.3 9.45l-7.72 7.72c-.78.78-.78 2.05 0 2.83L4 21.41c.39.39.9.59 1.41.59.51 0 1.02-.2 1.41-.59l7.78-7.78 2.81-2.81c.8-.78.8-2.07 0-2.86zM5.41 20L4 18.59l7.72-7.72 1.47 1.35L5.41 20z\"/>\n",
              "  </svg>\n",
              "      </button>\n",
              "      \n",
              "  <style>\n",
              "    .colab-df-container {\n",
              "      display:flex;\n",
              "      flex-wrap:wrap;\n",
              "      gap: 12px;\n",
              "    }\n",
              "\n",
              "    .colab-df-convert {\n",
              "      background-color: #E8F0FE;\n",
              "      border: none;\n",
              "      border-radius: 50%;\n",
              "      cursor: pointer;\n",
              "      display: none;\n",
              "      fill: #1967D2;\n",
              "      height: 32px;\n",
              "      padding: 0 0 0 0;\n",
              "      width: 32px;\n",
              "    }\n",
              "\n",
              "    .colab-df-convert:hover {\n",
              "      background-color: #E2EBFA;\n",
              "      box-shadow: 0px 1px 2px rgba(60, 64, 67, 0.3), 0px 1px 3px 1px rgba(60, 64, 67, 0.15);\n",
              "      fill: #174EA6;\n",
              "    }\n",
              "\n",
              "    [theme=dark] .colab-df-convert {\n",
              "      background-color: #3B4455;\n",
              "      fill: #D2E3FC;\n",
              "    }\n",
              "\n",
              "    [theme=dark] .colab-df-convert:hover {\n",
              "      background-color: #434B5C;\n",
              "      box-shadow: 0px 1px 3px 1px rgba(0, 0, 0, 0.15);\n",
              "      filter: drop-shadow(0px 1px 2px rgba(0, 0, 0, 0.3));\n",
              "      fill: #FFFFFF;\n",
              "    }\n",
              "  </style>\n",
              "\n",
              "      <script>\n",
              "        const buttonEl =\n",
              "          document.querySelector('#df-a159c7c5-e4b6-4020-8aed-77882ea348d2 button.colab-df-convert');\n",
              "        buttonEl.style.display =\n",
              "          google.colab.kernel.accessAllowed ? 'block' : 'none';\n",
              "\n",
              "        async function convertToInteractive(key) {\n",
              "          const element = document.querySelector('#df-a159c7c5-e4b6-4020-8aed-77882ea348d2');\n",
              "          const dataTable =\n",
              "            await google.colab.kernel.invokeFunction('convertToInteractive',\n",
              "                                                     [key], {});\n",
              "          if (!dataTable) return;\n",
              "\n",
              "          const docLinkHtml = 'Like what you see? Visit the ' +\n",
              "            '<a target=\"_blank\" href=https://colab.research.google.com/notebooks/data_table.ipynb>data table notebook</a>'\n",
              "            + ' to learn more about interactive tables.';\n",
              "          element.innerHTML = '';\n",
              "          dataTable['output_type'] = 'display_data';\n",
              "          await google.colab.output.renderOutput(dataTable, element);\n",
              "          const docLink = document.createElement('div');\n",
              "          docLink.innerHTML = docLinkHtml;\n",
              "          element.appendChild(docLink);\n",
              "        }\n",
              "      </script>\n",
              "    </div>\n",
              "  </div>\n",
              "  "
            ]
          },
          "metadata": {},
          "execution_count": 14
        }
      ]
    },
    {
      "cell_type": "code",
      "source": [
        "import itertools as it\n",
        "\n",
        "def get_permutations(df):\n",
        "  permutations = {}\n",
        "  for _ in df.iloc[:, :-1]:\n",
        "      p = pd.DataFrame(it.permutations(df[_].unique())) \\\n",
        "            .drop_duplicates(subset=[0]) \\\n",
        "            .reset_index(drop=True)\n",
        "      permutations[_] = p\n",
        "\n",
        "  return permutations"
      ],
      "metadata": {
        "id": "dus-i_U2aS4u"
      },
      "execution_count": 15,
      "outputs": []
    },
    {
      "cell_type": "code",
      "source": [
        "import collections\n",
        "\n",
        "def twoing(df, *, target, exclude=[]):\n",
        "  def solve(p, k):\n",
        "    def P(r):\n",
        "      l = df[df[k].isin(r)]\n",
        "      ll = len(l)\n",
        "      pl = np.divide(ll, len(df))\n",
        "      pr = l.groupby(target) \\\n",
        "            .count()[k] \\\n",
        "            .apply(lambda x: np.divide(x, ll))\n",
        "  \n",
        "      #pr.index = pr.index.set_names([''])\n",
        "      #pr = pd.DataFrame(pr)\n",
        "      #pr['p'] = pr[k].apply(lambda x: np.divide(x, ll))\n",
        "  \n",
        "      return ll, pl, pr\n",
        "\n",
        "    gains = []\n",
        "    for i in p:\n",
        "      L, R = p.iloc[i, :1], p.iloc[i, 1:]\n",
        "      bl, lpl, lpr = P(L)\n",
        "      br, rpl, rpr = P(R)\n",
        "  \n",
        "      #print(f\"P-LEFT={lpl:.2f} \\t P-RIGHT={rpl:.2f}\")\n",
        "  \n",
        "      val = (2 * lpl * rpl * lpr.sub(rpr, fill_value=0.0)\n",
        "                                .abs() \n",
        "                                .sum())\n",
        "      \n",
        "      gains.append(val)\n",
        "      #print(f\"{val=:.2f}\")\n",
        "      #print('\\n\\n' + 32*'-')\n",
        "\n",
        "    return gains\n",
        "\n",
        "  # stopping case\n",
        "  if df is not None and len(df) == 0:\n",
        "      return\n",
        "\n",
        "  node = Node()\n",
        "  node.indexes = list(df.index)\n",
        "\n",
        "  excluded_df = exclude_from(df, exclude)\n",
        "  #print(excluded_df)\n",
        "\n",
        "  permutations = get_permutations(excluded_df)\n",
        "  gains = collections.defaultdict(list)\n",
        "  for k, v in permutations.items():\n",
        "    e = solve(v, k)\n",
        "    gains[k] = e\n",
        "\n",
        "  if len(gains) == 0 or len(df[target].value_counts()) == 1:\n",
        "      node.key = df[target].values[0]\n",
        "      return node\n",
        "  \n",
        "  next_branch = max(gains, key=gains.get)\n",
        "  next_branch_index = np.argmax(gains[next_branch])\n",
        "  #print(next_branch_index)\n",
        "  node.branch = next_branch\n",
        "\n",
        "  #print(next_branch)\n",
        "  t = permutations[next_branch]\n",
        "  #print(t)\n",
        "  L, R = (t.iloc[next_branch_index, :1], \n",
        "          t.iloc[next_branch_index, 1:])\n",
        "  #print(L, R)\n",
        "  #input(\">>>\")\n",
        "\n",
        "  exclude = [*exclude, next_branch]\n",
        "  ln = twoing(df[df[next_branch].isin(L)], target=target, exclude=exclude)\n",
        "  rn = twoing(df[df[next_branch].isin(R)], target=target, exclude=exclude)\n",
        "\n",
        "  node.childs.append(ln) \n",
        "  node.childs.append(rn) \n",
        "\n",
        "  #for i in permutations[next_branch][0]:\n",
        "  #  n = twoing(df[df[next_branch] == i], target=target, exclude=[*exclude, next_branch])\n",
        "  #  node.childs.append(n)\n",
        "\n",
        "  return node"
      ],
      "metadata": {
        "id": "vG-_3_NHn5-F"
      },
      "execution_count": 16,
      "outputs": []
    },
    {
      "cell_type": "code",
      "source": [
        "tree = twoing(df, target=\"satisfied\")\n",
        "tree.show"
      ],
      "metadata": {
        "colab": {
          "base_uri": "https://localhost:8080/"
        },
        "id": "R0KHxK1rmNEb",
        "outputId": "f5836a36-97b4-4c78-a4ce-6132c0ee3495"
      },
      "execution_count": 17,
      "outputs": [
        {
          "output_type": "stream",
          "name": "stdout",
          "text": [
            " [0, 1, 2, 3, 4, 5, 6, 7, 8, 9, 10] #major \n",
            "\t [0, 1, 7, 8, 9, 10] #salary \n",
            "\t\t [0]  @Y\n",
            "\t\t [1, 7, 8, 9, 10] #exp \n",
            "\t\t\t [1]  @Y\n",
            "\t\t\t [7, 8, 9, 10]  @N\n",
            "\t [2, 3, 4, 5, 6]  @Y\n"
          ]
        }
      ]
    },
    {
      "cell_type": "code",
      "source": [
        "df = pd.read_excel(ASSETS_DIR + '/twoing.xls')\n",
        "target = \"Memnun\"\n",
        "exclude = [\"Müşteri\"]\n",
        "\n",
        "tree = twoing(df, target=target, exclude=exclude)\n",
        "tree.show"
      ],
      "metadata": {
        "colab": {
          "base_uri": "https://localhost:8080/"
        },
        "id": "HLYYVIRMJ2bs",
        "outputId": "57675539-b5bd-4c22-a5db-145e7c20feab"
      },
      "execution_count": 18,
      "outputs": [
        {
          "output_type": "stream",
          "name": "stdout",
          "text": [
            " [0, 1, 2, 3, 4, 5, 6, 7, 8, 9, 10] #Sektör \n",
            "\t [0, 1, 7, 8, 9, 10] #Gelir \n",
            "\t\t [0]  @Evet\n",
            "\t\t [1, 7, 8, 9, 10] #Eğitim \n",
            "\t\t\t [1]  @Evet\n",
            "\t\t\t [7, 8, 9, 10]  @Hayır\n",
            "\t [2, 3, 4, 5, 6]  @Evet\n"
          ]
        }
      ]
    },
    {
      "cell_type": "markdown",
      "source": [
        "---\n",
        "# K-Nearest Neighbors "
      ],
      "metadata": {
        "id": "rBkok15reHsm"
      }
    },
    {
      "cell_type": "code",
      "source": [
        "def knn(df, *, p, k, target):\n",
        "  excluded_df = df[p.columns]\n",
        "\n",
        "  normalize = (lambda x: (x - excluded_df.min()) \n",
        "                      / (excluded_df.max() - excluded_df.min()))\n",
        "  \n",
        "  normalized_df = normalize(excluded_df)\n",
        "  normalized_p = normalize(p)\n",
        "\n",
        "  df['d'] = (\n",
        "    df[p.columns].sub(p.squeeze())\n",
        "                 .agg(np.square)\n",
        "                 .sum(axis=1)\n",
        "                 .agg(np.sqrt)\n",
        "  )\n",
        "\n",
        "  neighbors = df.sort_values(by='d')[:k]\n",
        "  belongs = (\n",
        "      neighbors.groupby(target)\n",
        "               .count()\n",
        "               .idxmax()[0]\n",
        "  )\n",
        "\n",
        "  return belongs"
      ],
      "metadata": {
        "id": "WQpoKnGXhMGO"
      },
      "execution_count": 19,
      "outputs": []
    },
    {
      "cell_type": "code",
      "source": [
        "data = {\n",
        "    \"x1\": [2, 3, 3, 4, 5, 6, 7, 9, 11, 10],\n",
        "    \"x2\": [4, 6, 4, 10, 8, 3, 9, 7, 7, 2],\n",
        "    \"y\": ['Bad', 'Good', 'Good', 'Bad', 'Bad', 'Good', 'Good', 'Bad', 'Bad', 'Bad']\n",
        "}\n",
        "\n",
        "p = pd.DataFrame({\n",
        "    'x1': [8],\n",
        "    'x2': [4],\n",
        "})\n",
        "\n",
        "df = pd.DataFrame(data)\n",
        "knn(df, p=p, k=4, target='y')"
      ],
      "metadata": {
        "colab": {
          "base_uri": "https://localhost:8080/",
          "height": 36
        },
        "id": "No0X6BJieHan",
        "outputId": "c99a05cf-fc1c-4fc1-942a-8705b278d315"
      },
      "execution_count": 20,
      "outputs": [
        {
          "output_type": "execute_result",
          "data": {
            "text/plain": [
              "'Bad'"
            ],
            "application/vnd.google.colaboratory.intrinsic+json": {
              "type": "string"
            }
          },
          "metadata": {},
          "execution_count": 20
        }
      ]
    },
    {
      "cell_type": "code",
      "source": [
        "data = {\n",
        "    \"x1\": [10, 8, 18, 12, 3],\n",
        "    \"x2\": [5, 2, 16, 15, 15],\n",
        "    \"x3\": [19, 4, 6, 8, 15],\n",
        "    \"y\": ['Yes', 'No', 'No', 'Yes', 'Yes']\n",
        "}\n",
        "\n",
        "p = pd.DataFrame({\n",
        "    'x1': [7],\n",
        "    'x2': [8],\n",
        "    'x3': [5],\n",
        "})\n",
        "\n",
        "df = pd.DataFrame(data)\n",
        "knn(df, p=p, k=3, target='y')"
      ],
      "metadata": {
        "colab": {
          "base_uri": "https://localhost:8080/",
          "height": 36
        },
        "id": "SouEd1Lh2DGc",
        "outputId": "5acebc0d-0345-472d-a380-f3324ae7a3c6"
      },
      "execution_count": 21,
      "outputs": [
        {
          "output_type": "execute_result",
          "data": {
            "text/plain": [
              "'Yes'"
            ],
            "application/vnd.google.colaboratory.intrinsic+json": {
              "type": "string"
            }
          },
          "metadata": {},
          "execution_count": 21
        }
      ]
    },
    {
      "cell_type": "markdown",
      "source": [
        "---\n",
        "# K-Means"
      ],
      "metadata": {
        "id": "cmnjWTOsYRB6"
      }
    },
    {
      "cell_type": "code",
      "source": [
        "def kmean(df, *, k):\n",
        "  columns = df.columns[1:]\n",
        "  clusters = [i for i in range(0, k)]\n",
        "  p = [1/len(clusters)]*len(clusters)\n",
        "\n",
        "  df['cluster'] = np.random.choice(clusters,\n",
        "                                  len(df),\n",
        "                                  p=p)\n",
        "\n",
        "  centers = df.groupby('cluster').mean(numeric_only=True)\n",
        "\n",
        "  def solve(cpdf, least_mse=None):\n",
        "    mse = cpdf.groupby('cluster') \\\n",
        "              .apply(lambda x: np.square(x - x.mean(numeric_only=True)).sum()) \\\n",
        "              .sum(axis=1) \\\n",
        "              .sum()\n",
        "\n",
        "    if least_mse and mse >= least_mse:\n",
        "      return cpdf\n",
        "  \n",
        "    distances = cpdf.apply(lambda x: np.square(centers - x)\n",
        "                                        .sum(axis=1)**0.5, axis=1)\n",
        "\n",
        "    cpdf['cluster'] = distances.T.idxmin()\n",
        "\n",
        "    return solve(cpdf, mse)\n",
        "\n",
        "  cpdf = df.copy()\n",
        "  return solve(cpdf)\n",
        "\n",
        "data = {\n",
        "    \"x\": [4, 8, 5, 10, 11, 4, 12, 2, 3, 20, 19, 19, 15, 6, 1],\n",
        "    \"y\": [2, 4, 1, 6, 8, 3, 8, 2, 3, 20, 18, 21, 35, 32, 45],\n",
        "}\n",
        "\n",
        "df = pd.DataFrame(data)\n",
        "\n",
        "#df = pd.read_csv(ASSETS_DIR + '/housing.csv')\n",
        "#df = load_iris(as_frame=True).data\n",
        "res_df = kmean(df.copy(), k=3)\n",
        "res_df"
      ],
      "metadata": {
        "colab": {
          "base_uri": "https://localhost:8080/",
          "height": 520
        },
        "id": "XfExDl8H8LVf",
        "outputId": "2d7cba21-905b-47cf-8c61-07c3082f36af"
      },
      "execution_count": 22,
      "outputs": [
        {
          "output_type": "execute_result",
          "data": {
            "text/plain": [
              "     x   y  cluster\n",
              "0    4   2        0\n",
              "1    8   4        0\n",
              "2    5   1        0\n",
              "3   10   6        0\n",
              "4   11   8        0\n",
              "5    4   3        0\n",
              "6   12   8        0\n",
              "7    2   2        0\n",
              "8    3   3        0\n",
              "9   20  20        1\n",
              "10  19  18        1\n",
              "11  19  21        1\n",
              "12  15  35        2\n",
              "13   6  32        2\n",
              "14   1  45        2"
            ],
            "text/html": [
              "\n",
              "  <div id=\"df-bebfb35c-62c3-4bfa-8f69-d09b2ea465c1\">\n",
              "    <div class=\"colab-df-container\">\n",
              "      <div>\n",
              "<style scoped>\n",
              "    .dataframe tbody tr th:only-of-type {\n",
              "        vertical-align: middle;\n",
              "    }\n",
              "\n",
              "    .dataframe tbody tr th {\n",
              "        vertical-align: top;\n",
              "    }\n",
              "\n",
              "    .dataframe thead th {\n",
              "        text-align: right;\n",
              "    }\n",
              "</style>\n",
              "<table border=\"1\" class=\"dataframe\">\n",
              "  <thead>\n",
              "    <tr style=\"text-align: right;\">\n",
              "      <th></th>\n",
              "      <th>x</th>\n",
              "      <th>y</th>\n",
              "      <th>cluster</th>\n",
              "    </tr>\n",
              "  </thead>\n",
              "  <tbody>\n",
              "    <tr>\n",
              "      <th>0</th>\n",
              "      <td>4</td>\n",
              "      <td>2</td>\n",
              "      <td>0</td>\n",
              "    </tr>\n",
              "    <tr>\n",
              "      <th>1</th>\n",
              "      <td>8</td>\n",
              "      <td>4</td>\n",
              "      <td>0</td>\n",
              "    </tr>\n",
              "    <tr>\n",
              "      <th>2</th>\n",
              "      <td>5</td>\n",
              "      <td>1</td>\n",
              "      <td>0</td>\n",
              "    </tr>\n",
              "    <tr>\n",
              "      <th>3</th>\n",
              "      <td>10</td>\n",
              "      <td>6</td>\n",
              "      <td>0</td>\n",
              "    </tr>\n",
              "    <tr>\n",
              "      <th>4</th>\n",
              "      <td>11</td>\n",
              "      <td>8</td>\n",
              "      <td>0</td>\n",
              "    </tr>\n",
              "    <tr>\n",
              "      <th>5</th>\n",
              "      <td>4</td>\n",
              "      <td>3</td>\n",
              "      <td>0</td>\n",
              "    </tr>\n",
              "    <tr>\n",
              "      <th>6</th>\n",
              "      <td>12</td>\n",
              "      <td>8</td>\n",
              "      <td>0</td>\n",
              "    </tr>\n",
              "    <tr>\n",
              "      <th>7</th>\n",
              "      <td>2</td>\n",
              "      <td>2</td>\n",
              "      <td>0</td>\n",
              "    </tr>\n",
              "    <tr>\n",
              "      <th>8</th>\n",
              "      <td>3</td>\n",
              "      <td>3</td>\n",
              "      <td>0</td>\n",
              "    </tr>\n",
              "    <tr>\n",
              "      <th>9</th>\n",
              "      <td>20</td>\n",
              "      <td>20</td>\n",
              "      <td>1</td>\n",
              "    </tr>\n",
              "    <tr>\n",
              "      <th>10</th>\n",
              "      <td>19</td>\n",
              "      <td>18</td>\n",
              "      <td>1</td>\n",
              "    </tr>\n",
              "    <tr>\n",
              "      <th>11</th>\n",
              "      <td>19</td>\n",
              "      <td>21</td>\n",
              "      <td>1</td>\n",
              "    </tr>\n",
              "    <tr>\n",
              "      <th>12</th>\n",
              "      <td>15</td>\n",
              "      <td>35</td>\n",
              "      <td>2</td>\n",
              "    </tr>\n",
              "    <tr>\n",
              "      <th>13</th>\n",
              "      <td>6</td>\n",
              "      <td>32</td>\n",
              "      <td>2</td>\n",
              "    </tr>\n",
              "    <tr>\n",
              "      <th>14</th>\n",
              "      <td>1</td>\n",
              "      <td>45</td>\n",
              "      <td>2</td>\n",
              "    </tr>\n",
              "  </tbody>\n",
              "</table>\n",
              "</div>\n",
              "      <button class=\"colab-df-convert\" onclick=\"convertToInteractive('df-bebfb35c-62c3-4bfa-8f69-d09b2ea465c1')\"\n",
              "              title=\"Convert this dataframe to an interactive table.\"\n",
              "              style=\"display:none;\">\n",
              "        \n",
              "  <svg xmlns=\"http://www.w3.org/2000/svg\" height=\"24px\"viewBox=\"0 0 24 24\"\n",
              "       width=\"24px\">\n",
              "    <path d=\"M0 0h24v24H0V0z\" fill=\"none\"/>\n",
              "    <path d=\"M18.56 5.44l.94 2.06.94-2.06 2.06-.94-2.06-.94-.94-2.06-.94 2.06-2.06.94zm-11 1L8.5 8.5l.94-2.06 2.06-.94-2.06-.94L8.5 2.5l-.94 2.06-2.06.94zm10 10l.94 2.06.94-2.06 2.06-.94-2.06-.94-.94-2.06-.94 2.06-2.06.94z\"/><path d=\"M17.41 7.96l-1.37-1.37c-.4-.4-.92-.59-1.43-.59-.52 0-1.04.2-1.43.59L10.3 9.45l-7.72 7.72c-.78.78-.78 2.05 0 2.83L4 21.41c.39.39.9.59 1.41.59.51 0 1.02-.2 1.41-.59l7.78-7.78 2.81-2.81c.8-.78.8-2.07 0-2.86zM5.41 20L4 18.59l7.72-7.72 1.47 1.35L5.41 20z\"/>\n",
              "  </svg>\n",
              "      </button>\n",
              "      \n",
              "  <style>\n",
              "    .colab-df-container {\n",
              "      display:flex;\n",
              "      flex-wrap:wrap;\n",
              "      gap: 12px;\n",
              "    }\n",
              "\n",
              "    .colab-df-convert {\n",
              "      background-color: #E8F0FE;\n",
              "      border: none;\n",
              "      border-radius: 50%;\n",
              "      cursor: pointer;\n",
              "      display: none;\n",
              "      fill: #1967D2;\n",
              "      height: 32px;\n",
              "      padding: 0 0 0 0;\n",
              "      width: 32px;\n",
              "    }\n",
              "\n",
              "    .colab-df-convert:hover {\n",
              "      background-color: #E2EBFA;\n",
              "      box-shadow: 0px 1px 2px rgba(60, 64, 67, 0.3), 0px 1px 3px 1px rgba(60, 64, 67, 0.15);\n",
              "      fill: #174EA6;\n",
              "    }\n",
              "\n",
              "    [theme=dark] .colab-df-convert {\n",
              "      background-color: #3B4455;\n",
              "      fill: #D2E3FC;\n",
              "    }\n",
              "\n",
              "    [theme=dark] .colab-df-convert:hover {\n",
              "      background-color: #434B5C;\n",
              "      box-shadow: 0px 1px 3px 1px rgba(0, 0, 0, 0.15);\n",
              "      filter: drop-shadow(0px 1px 2px rgba(0, 0, 0, 0.3));\n",
              "      fill: #FFFFFF;\n",
              "    }\n",
              "  </style>\n",
              "\n",
              "      <script>\n",
              "        const buttonEl =\n",
              "          document.querySelector('#df-bebfb35c-62c3-4bfa-8f69-d09b2ea465c1 button.colab-df-convert');\n",
              "        buttonEl.style.display =\n",
              "          google.colab.kernel.accessAllowed ? 'block' : 'none';\n",
              "\n",
              "        async function convertToInteractive(key) {\n",
              "          const element = document.querySelector('#df-bebfb35c-62c3-4bfa-8f69-d09b2ea465c1');\n",
              "          const dataTable =\n",
              "            await google.colab.kernel.invokeFunction('convertToInteractive',\n",
              "                                                     [key], {});\n",
              "          if (!dataTable) return;\n",
              "\n",
              "          const docLinkHtml = 'Like what you see? Visit the ' +\n",
              "            '<a target=\"_blank\" href=https://colab.research.google.com/notebooks/data_table.ipynb>data table notebook</a>'\n",
              "            + ' to learn more about interactive tables.';\n",
              "          element.innerHTML = '';\n",
              "          dataTable['output_type'] = 'display_data';\n",
              "          await google.colab.output.renderOutput(dataTable, element);\n",
              "          const docLink = document.createElement('div');\n",
              "          docLink.innerHTML = docLinkHtml;\n",
              "          element.appendChild(docLink);\n",
              "        }\n",
              "      </script>\n",
              "    </div>\n",
              "  </div>\n",
              "  "
            ]
          },
          "metadata": {},
          "execution_count": 22
        }
      ]
    },
    {
      "cell_type": "code",
      "source": [
        "df.plot.scatter(x='x', y='y', colormap='rainbow')"
      ],
      "metadata": {
        "colab": {
          "base_uri": "https://localhost:8080/",
          "height": 296
        },
        "id": "nAI6zotpmAxi",
        "outputId": "600202d0-cb7b-4e15-eb85-c816cdb0d3de"
      },
      "execution_count": 23,
      "outputs": [
        {
          "output_type": "execute_result",
          "data": {
            "text/plain": [
              "<matplotlib.axes._subplots.AxesSubplot at 0x7fa33dc68520>"
            ]
          },
          "metadata": {},
          "execution_count": 23
        },
        {
          "output_type": "display_data",
          "data": {
            "text/plain": [
              "<Figure size 432x288 with 1 Axes>"
            ],
            "image/png": "[encoded data removed]"
          },
          "metadata": {
            "needs_background": "light"
          }
        }
      ]
    },
    {
      "cell_type": "code",
      "source": [
        "res_df.plot.scatter(x='x', y='y', c='cluster', colormap='rainbow')"
      ],
      "metadata": {
        "colab": {
          "base_uri": "https://localhost:8080/",
          "height": 275
        },
        "id": "-WPSjuMVi09j",
        "outputId": "4b5d5ab6-b132-4256-d23c-da8da1bb8d43"
      },
      "execution_count": 24,
      "outputs": [
        {
          "output_type": "execute_result",
          "data": {
            "text/plain": [
              "<matplotlib.axes._subplots.AxesSubplot at 0x7fa33db59160>"
            ]
          },
          "metadata": {},
          "execution_count": 24
        },
        {
          "output_type": "display_data",
          "data": {
            "text/plain": [
              "<Figure size 432x288 with 2 Axes>"
            ],
            "image/png": "[encoded data removed]"
          },
          "metadata": {
            "needs_background": "light"
          }
        }
      ]
    }
  ]
}